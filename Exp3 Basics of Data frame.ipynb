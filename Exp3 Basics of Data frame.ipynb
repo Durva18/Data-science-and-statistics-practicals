{
 "cells": [
  {
   "cell_type": "code",
   "execution_count": 1,
   "id": "e6b8dff5",
   "metadata": {},
   "outputs": [],
   "source": [
    "#Exp no 3:"
   ]
  },
  {
   "cell_type": "code",
   "execution_count": 2,
   "id": "86a40138",
   "metadata": {},
   "outputs": [],
   "source": [
    "#Aim : To perform operation of Central Tendency of Measure"
   ]
  },
  {
   "cell_type": "code",
   "execution_count": 3,
   "id": "1c9f76fd",
   "metadata": {},
   "outputs": [],
   "source": [
    "# Name :Durva Gajendra Waghmare\n",
    "# Roll no:62\n",
    "# Sec:A\n",
    "# Subject:ET1(Emerging Technology 1)\n",
    "# Data:04/8/2025"
   ]
  },
  {
   "cell_type": "code",
   "execution_count": 5,
   "id": "1a47d2b9",
   "metadata": {},
   "outputs": [],
   "source": [
    "age=[20,21,22,21,21,22,23,23,22,21,22,23,24,19,23,23,22,21]"
   ]
  },
  {
   "cell_type": "code",
   "execution_count": 6,
   "id": "5e086261",
   "metadata": {},
   "outputs": [
    {
     "name": "stdout",
     "output_type": "stream",
     "text": [
      "[20, 21, 22, 21, 21, 22, 23, 23, 22, 21, 22, 23, 24, 19, 25, 23, 22, 21]\n"
     ]
    }
   ],
   "source": [
    "print(age)"
   ]
  },
  {
   "cell_type": "code",
   "execution_count": 7,
   "id": "e02d36f0",
   "metadata": {},
   "outputs": [
    {
     "data": {
      "text/plain": [
       "[20, 21, 22, 21, 21, 22, 23, 23, 22, 21, 22, 23, 24, 19, 25, 23, 22, 21]"
      ]
     },
     "execution_count": 7,
     "metadata": {},
     "output_type": "execute_result"
    }
   ],
   "source": [
    "age"
   ]
  },
  {
   "cell_type": "code",
   "execution_count": 8,
   "id": "0cfcd79f",
   "metadata": {},
   "outputs": [],
   "source": [
    "import statistics"
   ]
  },
  {
   "cell_type": "code",
   "execution_count": 9,
   "id": "efe8c864",
   "metadata": {},
   "outputs": [],
   "source": [
    "a=statistics.mean(age)"
   ]
  },
  {
   "cell_type": "code",
   "execution_count": 10,
   "id": "98b48474",
   "metadata": {},
   "outputs": [
    {
     "data": {
      "text/plain": [
       "21.944444444444443"
      ]
     },
     "execution_count": 10,
     "metadata": {},
     "output_type": "execute_result"
    }
   ],
   "source": [
    "a"
   ]
  },
  {
   "cell_type": "code",
   "execution_count": 11,
   "id": "b0fdc0ff",
   "metadata": {},
   "outputs": [],
   "source": [
    "b=statistics.median(age)"
   ]
  },
  {
   "cell_type": "code",
   "execution_count": 12,
   "id": "545371bc",
   "metadata": {},
   "outputs": [
    {
     "data": {
      "text/plain": [
       "22.0"
      ]
     },
     "execution_count": 12,
     "metadata": {},
     "output_type": "execute_result"
    }
   ],
   "source": [
    "b"
   ]
  },
  {
   "cell_type": "code",
   "execution_count": 13,
   "id": "12bdb895",
   "metadata": {},
   "outputs": [],
   "source": [
    "import statistics as stats"
   ]
  },
  {
   "cell_type": "code",
   "execution_count": 16,
   "id": "cac858f0",
   "metadata": {},
   "outputs": [],
   "source": [
    "a=stats.mean(age)"
   ]
  },
  {
   "cell_type": "code",
   "execution_count": 17,
   "id": "1488104a",
   "metadata": {},
   "outputs": [
    {
     "data": {
      "text/plain": [
       "21.944444444444443"
      ]
     },
     "execution_count": 17,
     "metadata": {},
     "output_type": "execute_result"
    }
   ],
   "source": [
    "a"
   ]
  },
  {
   "cell_type": "code",
   "execution_count": 28,
   "id": "5c9784fb",
   "metadata": {},
   "outputs": [
    {
     "ename": "NameError",
     "evalue": "name 'stats' is not defined",
     "output_type": "error",
     "traceback": [
      "\u001b[1;31m---------------------------------------------------------------------------\u001b[0m",
      "\u001b[1;31mNameError\u001b[0m                                 Traceback (most recent call last)",
      "\u001b[1;32m~\\AppData\\Local\\Temp/ipykernel_21580/2698795013.py\u001b[0m in \u001b[0;36m<module>\u001b[1;34m\u001b[0m\n\u001b[1;32m----> 1\u001b[1;33m \u001b[0mc\u001b[0m\u001b[1;33m=\u001b[0m\u001b[0mstats\u001b[0m\u001b[1;33m.\u001b[0m\u001b[0mmode\u001b[0m\u001b[1;33m(\u001b[0m\u001b[0mage\u001b[0m\u001b[1;33m)\u001b[0m\u001b[1;33m\u001b[0m\u001b[1;33m\u001b[0m\u001b[0m\n\u001b[0m",
      "\u001b[1;31mNameError\u001b[0m: name 'stats' is not defined"
     ]
    }
   ],
   "source": [
    "c=stats.mode(age)"
   ]
  },
  {
   "cell_type": "code",
   "execution_count": 19,
   "id": "a05466fb",
   "metadata": {},
   "outputs": [
    {
     "data": {
      "text/plain": [
       "21"
      ]
     },
     "execution_count": 19,
     "metadata": {},
     "output_type": "execute_result"
    }
   ],
   "source": [
    "c"
   ]
  },
  {
   "cell_type": "code",
   "execution_count": 20,
   "id": "51e0854b",
   "metadata": {},
   "outputs": [],
   "source": [
    "import numpy as np\n",
    "x=np.array([1,3,2,4,7,6,5,8,9,3,2])"
   ]
  },
  {
   "cell_type": "code",
   "execution_count": 21,
   "id": "2d5fd016",
   "metadata": {},
   "outputs": [
    {
     "data": {
      "text/plain": [
       "array([1, 3, 2, 4, 7, 6, 5, 8, 9, 3, 2])"
      ]
     },
     "execution_count": 21,
     "metadata": {},
     "output_type": "execute_result"
    }
   ],
   "source": [
    "x"
   ]
  },
  {
   "cell_type": "code",
   "execution_count": 22,
   "id": "1199367c",
   "metadata": {},
   "outputs": [
    {
     "name": "stdout",
     "output_type": "stream",
     "text": [
      "4.545454545454546\n"
     ]
    }
   ],
   "source": [
    "print(np.mean(x))"
   ]
  },
  {
   "cell_type": "code",
   "execution_count": 26,
   "id": "22cda6ac",
   "metadata": {},
   "outputs": [
    {
     "name": "stdout",
     "output_type": "stream",
     "text": [
      "4.0\n"
     ]
    }
   ],
   "source": [
    "print(np.median(x))"
   ]
  },
  {
   "cell_type": "code",
   "execution_count": 1,
   "id": "235dfc8c",
   "metadata": {},
   "outputs": [
    {
     "ename": "NameError",
     "evalue": "name 'np' is not defined",
     "output_type": "error",
     "traceback": [
      "\u001b[1;31m---------------------------------------------------------------------------\u001b[0m",
      "\u001b[1;31mNameError\u001b[0m                                 Traceback (most recent call last)",
      "\u001b[1;32m~\\AppData\\Local\\Temp/ipykernel_12396/1381575533.py\u001b[0m in \u001b[0;36m<module>\u001b[1;34m\u001b[0m\n\u001b[1;32m----> 1\u001b[1;33m \u001b[0mprint\u001b[0m\u001b[1;33m(\u001b[0m\u001b[0mnp\u001b[0m\u001b[1;33m.\u001b[0m\u001b[0mmode\u001b[0m\u001b[1;33m(\u001b[0m\u001b[0mx\u001b[0m\u001b[1;33m)\u001b[0m\u001b[1;33m)\u001b[0m\u001b[1;33m\u001b[0m\u001b[1;33m\u001b[0m\u001b[0m\n\u001b[0m",
      "\u001b[1;31mNameError\u001b[0m: name 'np' is not defined"
     ]
    }
   ],
   "source": [
    "print(np.mode(x))"
   ]
  },
  {
   "cell_type": "code",
   "execution_count": 29,
   "id": "f722b144",
   "metadata": {},
   "outputs": [],
   "source": [
    "from scipy import stats"
   ]
  },
  {
   "cell_type": "code",
   "execution_count": 30,
   "id": "3d9db113",
   "metadata": {},
   "outputs": [
    {
     "name": "stdout",
     "output_type": "stream",
     "text": [
      "ModeResult(mode=array([2]), count=array([2]))\n"
     ]
    }
   ],
   "source": [
    "print(stats.mode(x))"
   ]
  },
  {
   "cell_type": "code",
   "execution_count": 31,
   "id": "2a03e8d1",
   "metadata": {},
   "outputs": [
    {
     "name": "stdout",
     "output_type": "stream",
     "text": [
      "2.535695578360246\n"
     ]
    }
   ],
   "source": [
    "print(np.std(x))"
   ]
  },
  {
   "cell_type": "code",
   "execution_count": 32,
   "id": "057e4f9f",
   "metadata": {},
   "outputs": [
    {
     "name": "stdout",
     "output_type": "stream",
     "text": [
      "6.429752066115703\n"
     ]
    }
   ],
   "source": [
    "print(np.var(x))"
   ]
  },
  {
   "cell_type": "code",
   "execution_count": null,
   "id": "030ea28e",
   "metadata": {},
   "outputs": [],
   "source": []
  }
 ],
 "metadata": {
  "kernelspec": {
   "display_name": "Python 3 (ipykernel)",
   "language": "python",
   "name": "python3"
  },
  "language_info": {
   "codemirror_mode": {
    "name": "ipython",
    "version": 3
   },
   "file_extension": ".py",
   "mimetype": "text/x-python",
   "name": "python",
   "nbconvert_exporter": "python",
   "pygments_lexer": "ipython3",
   "version": "3.9.7"
  }
 },
 "nbformat": 4,
 "nbformat_minor": 5
}
